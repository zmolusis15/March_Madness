{
 "cells": [
  {
   "cell_type": "markdown",
   "id": "ca84ecb2-7e3c-485a-9344-cf355bf798a1",
   "metadata": {},
   "source": [
    "# March Madness Simulator Data Gathering\n",
    "\n",
    "### Zach Molusis"
   ]
  },
  {
   "cell_type": "code",
   "execution_count": 77,
   "id": "6f9e56fd-1ded-40fe-82b4-eacb689afaf8",
   "metadata": {},
   "outputs": [],
   "source": [
    "import requests\n",
    "from kenpompy.utils import login\n",
    "import kenpompy.summary as kp\n",
    "import kenpompy.misc as km\n",
    "import time\n",
    "import random\n",
    "import pandas as pd"
   ]
  },
  {
   "cell_type": "markdown",
   "id": "8fc3a3a1-9d25-4f30-9181-b9e6b784253a",
   "metadata": {},
   "source": [
    "#### Efficiency"
   ]
  },
  {
   "cell_type": "code",
   "execution_count": 79,
   "id": "dffaf07f-8a38-4081-b188-b713625d7553",
   "metadata": {},
   "outputs": [],
   "source": [
    "# KenPom credentials\n",
    "USERNAME = \"zmolusis@icloud.com\"\n",
    "PASSWORD = \"tydwEw-nykmyt-4kirze\"\n",
    "\n",
    "browser = login(USERNAME, PASSWORD)\n",
    "eff_stats = kp.get_efficiency(browser)"
   ]
  },
  {
   "cell_type": "code",
   "execution_count": 80,
   "id": "749a8964-264a-4884-948d-441ddcb6b2f4",
   "metadata": {},
   "outputs": [],
   "source": [
    "eff_stats.to_csv('efficiency.csv')\n",
    "time.sleep(15)"
   ]
  },
  {
   "cell_type": "markdown",
   "id": "7b7095cc-7d82-4840-aa60-851f7d43a4cf",
   "metadata": {},
   "source": [
    "#### 4 factors"
   ]
  },
  {
   "cell_type": "code",
   "execution_count": 82,
   "id": "4955ef9e-7e37-4093-b591-05939ada9e17",
   "metadata": {},
   "outputs": [],
   "source": [
    "# KenPom credentials\n",
    "USERNAME = \"zmolusis@icloud.com\"\n",
    "PASSWORD = \"tydwEw-nykmyt-4kirze\"\n",
    "\n",
    "browser = login(USERNAME, PASSWORD)\n",
    "four_fact = kp.get_fourfactors(browser)"
   ]
  },
  {
   "cell_type": "code",
   "execution_count": 83,
   "id": "4a4f74bf-97df-452a-9899-c3a5c8e02f9c",
   "metadata": {},
   "outputs": [],
   "source": [
    "four_fact.to_csv('fourFact.csv')\n",
    "time.sleep(15)"
   ]
  },
  {
   "cell_type": "markdown",
   "id": "1bb73a20-8d9b-49be-8601-a67059f7f8f6",
   "metadata": {},
   "source": [
    "#### Experience/Height"
   ]
  },
  {
   "cell_type": "code",
   "execution_count": 85,
   "id": "58764bef-dd7b-4715-b6ec-186761fafabe",
   "metadata": {},
   "outputs": [],
   "source": [
    "USERNAME = \"zmolusis@icloud.com\"\n",
    "PASSWORD = \"tydwEw-nykmyt-4kirze\"\n",
    "\n",
    "browser = login(USERNAME, PASSWORD)\n",
    "exp = kp.get_height(browser)"
   ]
  },
  {
   "cell_type": "code",
   "execution_count": 86,
   "id": "c01864a2-7631-46ca-a2e9-360a56028916",
   "metadata": {},
   "outputs": [],
   "source": [
    "exp = exp[['Team','EffHgt','C-Hgt','Bench','Continuity','Experience']]"
   ]
  },
  {
   "cell_type": "code",
   "execution_count": 87,
   "id": "5cecc4de-bc39-477e-9b3f-deed31727f14",
   "metadata": {},
   "outputs": [],
   "source": [
    "exp.to_csv('exp.csv')\n",
    "time.sleep(15)"
   ]
  },
  {
   "cell_type": "markdown",
   "id": "7e6ed869-2e02-45d4-8fae-2589dd19eb6c",
   "metadata": {},
   "source": [
    "#### 3pt and FT"
   ]
  },
  {
   "cell_type": "code",
   "execution_count": 89,
   "id": "ae1c7b12-5f94-4290-85ad-d33a8a773caa",
   "metadata": {},
   "outputs": [],
   "source": [
    "USERNAME = \"zmolusis@icloud.com\"\n",
    "PASSWORD = \"tydwEw-nykmyt-4kirze\"\n",
    "\n",
    "browser = login(USERNAME, PASSWORD)\n",
    "ft_3pt = kp.get_teamstats(browser)"
   ]
  },
  {
   "cell_type": "code",
   "execution_count": 90,
   "id": "3db89f68-5f5f-4c7b-8fe6-77864fa1b166",
   "metadata": {},
   "outputs": [],
   "source": [
    "ft_3pt = ft_3pt[['Team','3P%','FT%','3PA%']]"
   ]
  },
  {
   "cell_type": "code",
   "execution_count": 91,
   "id": "cc65c3ed-ab4f-487e-a5e8-4018a9849cfc",
   "metadata": {},
   "outputs": [],
   "source": [
    "ft_3pt.to_csv('ft_3pt.csv')"
   ]
  }
 ],
 "metadata": {
  "kernelspec": {
   "display_name": "Python 3 (ipykernel)",
   "language": "python",
   "name": "python3"
  },
  "language_info": {
   "codemirror_mode": {
    "name": "ipython",
    "version": 3
   },
   "file_extension": ".py",
   "mimetype": "text/x-python",
   "name": "python",
   "nbconvert_exporter": "python",
   "pygments_lexer": "ipython3",
   "version": "3.10.12"
  }
 },
 "nbformat": 4,
 "nbformat_minor": 5
}
